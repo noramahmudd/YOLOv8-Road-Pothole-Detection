{
 "cells": [
  {
   "cell_type": "code",
   "execution_count": 2,
   "metadata": {},
   "outputs": [
    {
     "name": "stdout",
     "output_type": "stream",
     "text": [
      "Requirement already satisfied: ultralytics==8.0.196 in c:\\users\\dell\\appdata\\local\\programs\\python\\python311\\lib\\site-packages (8.0.196)\n",
      "Requirement already satisfied: matplotlib>=3.3.0 in c:\\users\\dell\\appdata\\local\\programs\\python\\python311\\lib\\site-packages (from ultralytics==8.0.196) (3.9.1.post1)\n",
      "Requirement already satisfied: numpy>=1.22.2 in c:\\users\\dell\\appdata\\local\\programs\\python\\python311\\lib\\site-packages (from ultralytics==8.0.196) (2.0.2)\n",
      "Requirement already satisfied: opencv-python>=4.6.0 in c:\\users\\dell\\appdata\\local\\programs\\python\\python311\\lib\\site-packages (from ultralytics==8.0.196) (4.10.0.84)\n",
      "Requirement already satisfied: pillow>=7.1.2 in c:\\users\\dell\\appdata\\local\\programs\\python\\python311\\lib\\site-packages (from ultralytics==8.0.196) (10.4.0)\n",
      "Requirement already satisfied: pyyaml>=5.3.1 in c:\\users\\dell\\appdata\\local\\programs\\python\\python311\\lib\\site-packages (from ultralytics==8.0.196) (6.0.2)\n",
      "Requirement already satisfied: requests>=2.23.0 in c:\\users\\dell\\appdata\\local\\programs\\python\\python311\\lib\\site-packages (from ultralytics==8.0.196) (2.32.3)\n",
      "Requirement already satisfied: scipy>=1.4.1 in c:\\users\\dell\\appdata\\local\\programs\\python\\python311\\lib\\site-packages (from ultralytics==8.0.196) (1.13.1)\n",
      "Requirement already satisfied: torch>=1.8.0 in c:\\users\\dell\\appdata\\local\\programs\\python\\python311\\lib\\site-packages (from ultralytics==8.0.196) (2.5.1)\n",
      "Requirement already satisfied: torchvision>=0.9.0 in c:\\users\\dell\\appdata\\local\\programs\\python\\python311\\lib\\site-packages (from ultralytics==8.0.196) (0.20.1)\n",
      "Requirement already satisfied: tqdm>=4.64.0 in c:\\users\\dell\\appdata\\local\\programs\\python\\python311\\lib\\site-packages (from ultralytics==8.0.196) (4.66.5)\n",
      "Requirement already satisfied: pandas>=1.1.4 in c:\\users\\dell\\appdata\\local\\programs\\python\\python311\\lib\\site-packages (from ultralytics==8.0.196) (2.2.2)\n",
      "Requirement already satisfied: seaborn>=0.11.0 in c:\\users\\dell\\appdata\\local\\programs\\python\\python311\\lib\\site-packages (from ultralytics==8.0.196) (0.13.2)\n",
      "Requirement already satisfied: psutil in c:\\users\\dell\\appdata\\roaming\\python\\python311\\site-packages (from ultralytics==8.0.196) (6.0.0)\n",
      "Requirement already satisfied: py-cpuinfo in c:\\users\\dell\\appdata\\local\\programs\\python\\python311\\lib\\site-packages (from ultralytics==8.0.196) (9.0.0)\n",
      "Requirement already satisfied: thop>=0.1.1 in c:\\users\\dell\\appdata\\local\\programs\\python\\python311\\lib\\site-packages (from ultralytics==8.0.196) (0.1.1.post2209072238)\n",
      "Requirement already satisfied: contourpy>=1.0.1 in c:\\users\\dell\\appdata\\local\\programs\\python\\python311\\lib\\site-packages (from matplotlib>=3.3.0->ultralytics==8.0.196) (1.2.1)\n",
      "Requirement already satisfied: cycler>=0.10 in c:\\users\\dell\\appdata\\local\\programs\\python\\python311\\lib\\site-packages (from matplotlib>=3.3.0->ultralytics==8.0.196) (0.12.1)\n",
      "Requirement already satisfied: fonttools>=4.22.0 in c:\\users\\dell\\appdata\\local\\programs\\python\\python311\\lib\\site-packages (from matplotlib>=3.3.0->ultralytics==8.0.196) (4.53.1)\n",
      "Requirement already satisfied: kiwisolver>=1.3.1 in c:\\users\\dell\\appdata\\local\\programs\\python\\python311\\lib\\site-packages (from matplotlib>=3.3.0->ultralytics==8.0.196) (1.4.5)\n",
      "Requirement already satisfied: packaging>=20.0 in c:\\users\\dell\\appdata\\roaming\\python\\python311\\site-packages (from matplotlib>=3.3.0->ultralytics==8.0.196) (24.1)\n",
      "Requirement already satisfied: pyparsing>=2.3.1 in c:\\users\\dell\\appdata\\local\\programs\\python\\python311\\lib\\site-packages (from matplotlib>=3.3.0->ultralytics==8.0.196) (3.1.2)\n",
      "Requirement already satisfied: python-dateutil>=2.7 in c:\\users\\dell\\appdata\\roaming\\python\\python311\\site-packages (from matplotlib>=3.3.0->ultralytics==8.0.196) (2.9.0.post0)\n",
      "Requirement already satisfied: pytz>=2020.1 in c:\\users\\dell\\appdata\\local\\programs\\python\\python311\\lib\\site-packages (from pandas>=1.1.4->ultralytics==8.0.196) (2024.1)\n",
      "Requirement already satisfied: tzdata>=2022.7 in c:\\users\\dell\\appdata\\local\\programs\\python\\python311\\lib\\site-packages (from pandas>=1.1.4->ultralytics==8.0.196) (2024.1)\n",
      "Requirement already satisfied: charset-normalizer<4,>=2 in c:\\users\\dell\\appdata\\local\\programs\\python\\python311\\lib\\site-packages (from requests>=2.23.0->ultralytics==8.0.196) (3.3.2)\n",
      "Requirement already satisfied: idna<4,>=2.5 in c:\\users\\dell\\appdata\\local\\programs\\python\\python311\\lib\\site-packages (from requests>=2.23.0->ultralytics==8.0.196) (3.7)\n",
      "Requirement already satisfied: urllib3<3,>=1.21.1 in c:\\users\\dell\\appdata\\local\\programs\\python\\python311\\lib\\site-packages (from requests>=2.23.0->ultralytics==8.0.196) (2.2.2)\n",
      "Requirement already satisfied: certifi>=2017.4.17 in c:\\users\\dell\\appdata\\local\\programs\\python\\python311\\lib\\site-packages (from requests>=2.23.0->ultralytics==8.0.196) (2024.7.4)\n",
      "Requirement already satisfied: filelock in c:\\users\\dell\\appdata\\local\\programs\\python\\python311\\lib\\site-packages (from torch>=1.8.0->ultralytics==8.0.196) (3.15.4)\n",
      "Requirement already satisfied: typing-extensions>=4.8.0 in c:\\users\\dell\\appdata\\roaming\\python\\python311\\site-packages (from torch>=1.8.0->ultralytics==8.0.196) (4.12.2)\n",
      "Requirement already satisfied: networkx in c:\\users\\dell\\appdata\\local\\programs\\python\\python311\\lib\\site-packages (from torch>=1.8.0->ultralytics==8.0.196) (3.3)\n",
      "Requirement already satisfied: jinja2 in c:\\users\\dell\\appdata\\local\\programs\\python\\python311\\lib\\site-packages (from torch>=1.8.0->ultralytics==8.0.196) (3.1.4)\n",
      "Requirement already satisfied: fsspec in c:\\users\\dell\\appdata\\local\\programs\\python\\python311\\lib\\site-packages (from torch>=1.8.0->ultralytics==8.0.196) (2024.6.1)\n",
      "Requirement already satisfied: sympy==1.13.1 in c:\\users\\dell\\appdata\\local\\programs\\python\\python311\\lib\\site-packages (from torch>=1.8.0->ultralytics==8.0.196) (1.13.1)\n",
      "Requirement already satisfied: mpmath<1.4,>=1.1.0 in c:\\users\\dell\\appdata\\local\\programs\\python\\python311\\lib\\site-packages (from sympy==1.13.1->torch>=1.8.0->ultralytics==8.0.196) (1.3.0)\n",
      "Requirement already satisfied: colorama in c:\\users\\dell\\appdata\\roaming\\python\\python311\\site-packages (from tqdm>=4.64.0->ultralytics==8.0.196) (0.4.6)\n",
      "Requirement already satisfied: six>=1.5 in c:\\users\\dell\\appdata\\roaming\\python\\python311\\site-packages (from python-dateutil>=2.7->matplotlib>=3.3.0->ultralytics==8.0.196) (1.16.0)\n",
      "Requirement already satisfied: MarkupSafe>=2.0 in c:\\users\\dell\\appdata\\local\\programs\\python\\python311\\lib\\site-packages (from jinja2->torch>=1.8.0->ultralytics==8.0.196) (2.1.5)\n"
     ]
    },
    {
     "name": "stderr",
     "output_type": "stream",
     "text": [
      "\n",
      "[notice] A new release of pip is available: 24.3.1 -> 25.0.1\n",
      "[notice] To update, run: C:\\Users\\DELL\\AppData\\Local\\Programs\\Python\\Python311\\python.exe -m pip install --upgrade pip\n"
     ]
    }
   ],
   "source": [
    "!pip install ultralytics==8.0.196"
   ]
  },
  {
   "cell_type": "code",
   "execution_count": 3,
   "metadata": {},
   "outputs": [
    {
     "name": "stdout",
     "output_type": "stream",
     "text": [
      "Ultralytics 8.3.49  Python-3.11.3 torch-2.5.0+cpu CPU (11th Gen Intel Core(TM) i7-11800H 2.30GHz)\n",
      "Setup complete  (16 CPUs, 15.7 GB RAM, 126.9/128.6 GB disk)\n"
     ]
    }
   ],
   "source": [
    "from IPython import display \n",
    "display.clear_output()\n",
    "\n",
    "import ultralytics\n",
    "ultralytics.checks()"
   ]
  },
  {
   "cell_type": "code",
   "execution_count": 4,
   "metadata": {},
   "outputs": [
    {
     "name": "stdout",
     "output_type": "stream",
     "text": [
      "c:\\Users\\DELL\\Downloads\\yolov8-roadpothole-detection-main\\yolov8-roadpothole-detection-main\n"
     ]
    }
   ],
   "source": [
    "import os\n",
    "HOME = os.getcwd()\n",
    "print(HOME)"
   ]
  },
  {
   "cell_type": "code",
   "execution_count": 5,
   "metadata": {},
   "outputs": [],
   "source": [
    "from ultralytics import YOLO \n",
    "from IPython.display import display, Image"
   ]
  },
  {
   "cell_type": "code",
   "execution_count": 6,
   "metadata": {},
   "outputs": [
    {
     "name": "stdout",
     "output_type": "stream",
     "text": [
      "c:\\Users\\DELL\\Downloads\\yolov8-roadpothole-detection-main\\yolov8-roadpothole-detection-main\n"
     ]
    },
    {
     "name": "stderr",
     "output_type": "stream",
     "text": [
      "Downloading https://github.com/ultralytics/assets/releases/download/v0.0.0/yolov8s-seg.pt to 'yolov8s-seg.pt'...\n",
      "\n",
      "  0%|          | 0.00/22.8M [00:00<?, ?B/s]\n",
      "  1%|          | 128k/22.8M [00:00<00:24, 983kB/s]\n",
      "  2%|▏         | 384k/22.8M [00:00<00:15, 1.47MB/s]\n",
      "  3%|▎         | 640k/22.8M [00:00<00:16, 1.40MB/s]\n",
      "  4%|▍         | 896k/22.8M [00:00<00:15, 1.48MB/s]\n",
      "  5%|▍         | 1.12M/22.8M [00:00<00:18, 1.25MB/s]\n",
      "  7%|▋         | 1.50M/22.8M [00:01<00:14, 1.58MB/s]\n",
      "  8%|▊         | 1.75M/22.8M [00:01<00:13, 1.62MB/s]\n",
      "  9%|▉         | 2.00M/22.8M [00:01<00:13, 1.66MB/s]\n",
      " 10%|▉         | 2.25M/22.8M [00:01<00:12, 1.68MB/s]\n",
      " 11%|█         | 2.50M/22.8M [00:01<00:12, 1.68MB/s]\n",
      " 12%|█▏        | 2.75M/22.8M [00:01<00:12, 1.70MB/s]\n",
      " 13%|█▎        | 3.00M/22.8M [00:01<00:12, 1.72MB/s]\n",
      " 14%|█▍        | 3.25M/22.8M [00:02<00:11, 1.72MB/s]\n",
      " 15%|█▌        | 3.50M/22.8M [00:02<00:11, 1.70MB/s]\n",
      " 16%|█▋        | 3.75M/22.8M [00:02<00:20, 961kB/s] \n",
      " 18%|█▊        | 4.12M/22.8M [00:03<00:16, 1.19MB/s]\n",
      " 19%|█▉        | 4.38M/22.8M [00:03<00:22, 870kB/s] \n",
      " 20%|█▉        | 4.50M/22.8M [00:03<00:20, 918kB/s]\n",
      " 20%|██        | 4.62M/22.8M [00:03<00:22, 847kB/s]\n",
      " 21%|██        | 4.75M/22.8M [00:04<00:28, 655kB/s]\n",
      " 21%|██▏       | 4.88M/22.8M [00:04<00:25, 724kB/s]\n",
      " 22%|██▏       | 5.00M/22.8M [00:04<00:25, 735kB/s]\n",
      " 22%|██▏       | 5.12M/22.8M [00:04<00:23, 773kB/s]\n",
      " 23%|██▎       | 5.25M/22.8M [00:04<00:23, 777kB/s]\n",
      " 24%|██▎       | 5.38M/22.8M [00:06<01:06, 274kB/s]\n",
      " 24%|██▍       | 5.50M/22.8M [00:06<01:02, 290kB/s]\n",
      " 25%|██▍       | 5.62M/22.8M [00:06<00:54, 329kB/s]\n",
      " 25%|██▌       | 5.75M/22.8M [00:06<00:46, 388kB/s]\n",
      " 26%|██▌       | 5.88M/22.8M [00:07<00:39, 444kB/s]\n",
      " 26%|██▋       | 6.00M/22.8M [00:07<00:34, 511kB/s]\n",
      " 27%|██▋       | 6.12M/22.8M [00:07<00:31, 563kB/s]\n",
      " 27%|██▋       | 6.25M/22.8M [00:07<00:28, 607kB/s]\n",
      " 28%|██▊       | 6.38M/22.8M [00:07<00:26, 655kB/s]\n",
      " 29%|██▊       | 6.50M/22.8M [00:07<00:24, 699kB/s]\n",
      " 29%|██▉       | 6.62M/22.8M [00:08<00:22, 750kB/s]\n",
      " 30%|██▉       | 6.75M/22.8M [00:08<00:21, 788kB/s]\n",
      " 30%|███       | 6.88M/22.8M [00:08<00:20, 808kB/s]\n",
      " 31%|███       | 7.00M/22.8M [00:08<00:19, 839kB/s]\n",
      " 31%|███▏      | 7.12M/22.8M [00:08<00:18, 891kB/s]\n",
      " 32%|███▏      | 7.25M/22.8M [00:08<00:17, 916kB/s]\n",
      " 32%|███▏      | 7.38M/22.8M [00:08<00:17, 935kB/s]\n",
      " 33%|███▎      | 7.50M/22.8M [00:09<00:16, 978kB/s]\n",
      " 33%|███▎      | 7.62M/22.8M [00:09<00:15, 1.00MB/s]\n",
      " 34%|███▍      | 7.75M/22.8M [00:09<00:15, 1.02MB/s]\n",
      " 35%|███▍      | 7.88M/22.8M [00:09<00:15, 1.03MB/s]\n",
      " 35%|███▌      | 8.00M/22.8M [00:09<00:14, 1.06MB/s]\n",
      " 36%|███▌      | 8.12M/22.8M [00:09<00:14, 1.08MB/s]\n",
      " 36%|███▌      | 8.25M/22.8M [00:09<00:13, 1.13MB/s]\n",
      " 37%|███▋      | 8.38M/22.8M [00:09<00:13, 1.13MB/s]\n",
      " 37%|███▋      | 8.50M/22.8M [00:10<00:12, 1.17MB/s]\n",
      " 38%|███▊      | 8.62M/22.8M [00:10<00:12, 1.19MB/s]\n",
      " 38%|███▊      | 8.75M/22.8M [00:10<00:12, 1.20MB/s]\n",
      " 39%|███▉      | 8.88M/22.8M [00:10<00:12, 1.22MB/s]\n",
      " 39%|███▉      | 9.00M/22.8M [00:10<00:11, 1.23MB/s]\n",
      " 40%|████      | 9.12M/22.8M [00:10<00:11, 1.20MB/s]\n",
      " 41%|████      | 9.25M/22.8M [00:10<00:11, 1.22MB/s]\n",
      " 42%|████▏     | 9.50M/22.8M [00:10<00:10, 1.32MB/s]\n",
      " 43%|████▎     | 9.75M/22.8M [00:11<00:10, 1.32MB/s]\n",
      " 44%|████▍     | 10.0M/22.8M [00:11<00:09, 1.35MB/s]\n",
      " 45%|████▍     | 10.2M/22.8M [00:11<00:09, 1.40MB/s]\n",
      " 46%|████▌     | 10.5M/22.8M [00:11<00:09, 1.41MB/s]\n",
      " 47%|████▋     | 10.8M/22.8M [00:11<00:08, 1.46MB/s]\n",
      " 48%|████▊     | 11.0M/22.8M [00:11<00:08, 1.47MB/s]\n",
      " 49%|████▉     | 11.2M/22.8M [00:12<00:08, 1.51MB/s]\n",
      " 50%|█████     | 11.5M/22.8M [00:12<00:07, 1.54MB/s]\n",
      " 52%|█████▏    | 11.8M/22.8M [00:12<00:07, 1.55MB/s]\n",
      " 53%|█████▎    | 12.0M/22.8M [00:12<00:07, 1.57MB/s]\n",
      " 54%|█████▍    | 12.2M/22.8M [00:12<00:06, 1.63MB/s]\n",
      " 55%|█████▍    | 12.5M/22.8M [00:12<00:06, 1.63MB/s]\n",
      " 56%|█████▌    | 12.8M/22.8M [00:13<00:06, 1.65MB/s]\n",
      " 57%|█████▋    | 13.0M/22.8M [00:13<00:06, 1.67MB/s]\n",
      " 58%|█████▊    | 13.2M/22.8M [00:13<00:05, 1.71MB/s]\n",
      " 59%|█████▉    | 13.5M/22.8M [00:13<00:05, 1.70MB/s]\n",
      " 60%|██████    | 13.8M/22.8M [00:13<00:05, 1.70MB/s]\n",
      " 61%|██████▏   | 14.0M/22.8M [00:13<00:05, 1.72MB/s]\n",
      " 63%|██████▎   | 14.2M/22.8M [00:13<00:05, 1.74MB/s]\n",
      " 64%|██████▎   | 14.5M/22.8M [00:14<00:05, 1.71MB/s]\n",
      " 65%|██████▍   | 14.8M/22.8M [00:14<00:04, 1.73MB/s]\n",
      " 66%|██████▌   | 15.0M/22.8M [00:14<00:04, 1.74MB/s]\n",
      " 67%|██████▋   | 15.2M/22.8M [00:14<00:04, 1.73MB/s]\n",
      " 68%|██████▊   | 15.5M/22.8M [00:14<00:04, 1.73MB/s]\n",
      " 69%|██████▉   | 15.8M/22.8M [00:14<00:04, 1.74MB/s]\n",
      " 70%|███████   | 16.0M/22.8M [00:15<00:04, 1.72MB/s]\n",
      " 71%|███████▏  | 16.2M/22.8M [00:15<00:03, 1.72MB/s]\n",
      " 72%|███████▏  | 16.5M/22.8M [00:15<00:03, 1.72MB/s]\n",
      " 73%|███████▎  | 16.8M/22.8M [00:15<00:03, 1.72MB/s]\n",
      " 75%|███████▍  | 17.0M/22.8M [00:15<00:03, 1.72MB/s]\n",
      " 76%|███████▌  | 17.2M/22.8M [00:15<00:03, 1.74MB/s]\n",
      " 77%|███████▋  | 17.5M/22.8M [00:15<00:03, 1.73MB/s]\n",
      " 78%|███████▊  | 17.8M/22.8M [00:16<00:03, 1.41MB/s]\n",
      " 80%|███████▉  | 18.1M/22.8M [00:16<00:03, 1.46MB/s]\n",
      " 81%|████████  | 18.4M/22.8M [00:16<00:02, 1.57MB/s]\n",
      " 82%|████████▏ | 18.6M/22.8M [00:16<00:02, 1.47MB/s]\n",
      " 83%|████████▎ | 18.9M/22.8M [00:17<00:03, 1.27MB/s]\n",
      " 84%|████████▍ | 19.1M/22.8M [00:17<00:02, 1.29MB/s]\n",
      " 85%|████████▌ | 19.4M/22.8M [00:17<00:02, 1.33MB/s]\n",
      " 86%|████████▌ | 19.6M/22.8M [00:17<00:02, 1.38MB/s]\n",
      " 87%|████████▋ | 19.9M/22.8M [00:17<00:02, 1.43MB/s]\n",
      " 88%|████████▊ | 20.1M/22.8M [00:17<00:01, 1.48MB/s]\n",
      " 89%|████████▉ | 20.4M/22.8M [00:18<00:01, 1.52MB/s]\n",
      " 90%|█████████ | 20.6M/22.8M [00:18<00:01, 1.56MB/s]\n",
      " 92%|█████████▏| 20.9M/22.8M [00:18<00:01, 1.60MB/s]\n",
      " 93%|█████████▎| 21.1M/22.8M [00:18<00:01, 1.63MB/s]\n",
      " 94%|█████████▍| 21.4M/22.8M [00:18<00:00, 1.63MB/s]\n",
      " 95%|█████████▍| 21.6M/22.8M [00:18<00:00, 1.65MB/s]\n",
      " 96%|█████████▌| 21.9M/22.8M [00:19<00:00, 1.67MB/s]\n",
      " 97%|█████████▋| 22.1M/22.8M [00:19<00:00, 1.67MB/s]\n",
      " 98%|█████████▊| 22.4M/22.8M [00:19<00:00, 1.69MB/s]\n",
      " 99%|█████████▉| 22.6M/22.8M [00:19<00:00, 1.69MB/s]\n",
      "100%|██████████| 22.8M/22.8M [00:19<00:00, 1.62MB/s]\n",
      "100%|██████████| 22.8M/22.8M [00:19<00:00, 1.22MB/s]\n",
      "C:\\Users\\DELL\\AppData\\Local\\Programs\\Python\\Python311\\Lib\\site-packages\\ultralytics\\nn\\tasks.py:567: FutureWarning: You are using `torch.load` with `weights_only=False` (the current default value), which uses the default pickle module implicitly. It is possible to construct malicious pickle data which will execute arbitrary code during unpickling (See https://github.com/pytorch/pytorch/blob/main/SECURITY.md#untrusted-models for more details). In a future release, the default value for `weights_only` will be flipped to `True`. This limits the functions that could be executed during unpickling. Arbitrary objects will no longer be allowed to be loaded via this mode unless they are explicitly allowlisted by the user via `torch.serialization.add_safe_globals`. We recommend you start setting `weights_only=True` for any use case where you don't have full control of the loaded file. Please open an issue on GitHub for any issues related to this experimental feature.\n",
      "  return torch.load(file, map_location='cpu'), file  # load\n",
      "Ultralytics YOLOv8.0.196  Python-3.11.4 torch-2.5.1+cpu CPU (11th Gen Intel Core(TM) i7-11800H 2.30GHz)\n",
      "YOLOv8s-seg summary (fused): 195 layers, 11810560 parameters, 0 gradients, 42.6 GFLOPs\n",
      "\n",
      "Downloading https://media.roboflow.com/notebooks/examples/dog.jpeg to 'dog.jpeg'...\n",
      "\n",
      "  0%|          | 0.00/104k [00:00<?, ?B/s]\n",
      "100%|██████████| 104k/104k [00:00<00:00, 503kB/s]\n",
      "100%|██████████| 104k/104k [00:00<00:00, 503kB/s]\n",
      "image 1/1 c:\\Users\\DELL\\Downloads\\yolov8-roadpothole-detection-main\\yolov8-roadpothole-detection-main\\dog.jpeg: 640x384 1 person, 1 car, 1 dog, 1 backpack, 1 handbag, 403.0ms\n",
      "Speed: 8.0ms preprocess, 403.0ms inference, 10.9ms postprocess per image at shape (1, 3, 640, 384)\n",
      "Results saved to \u001b[1mC:\\Users\\DELL\\runs\\segment\\predict2\u001b[0m\n",
      " Learn more at https://docs.ultralytics.com/modes/predict\n"
     ]
    }
   ],
   "source": [
    "%cd {HOME}\n",
    "!yolo task=segment mode=predict model=yolov8s-seg.pt conf=0.25 source='https://media.roboflow.com/notebooks/examples/dog.jpeg'"
   ]
  },
  {
   "cell_type": "code",
   "execution_count": 7,
   "metadata": {},
   "outputs": [
    {
     "name": "stdout",
     "output_type": "stream",
     "text": [
      "c:\\Users\\DELL\\Downloads\\yolov8-roadpothole-detection-main\\yolov8-roadpothole-detection-main\n"
     ]
    },
    {
     "ename": "FileNotFoundError",
     "evalue": "[Errno 2] No such file or directory: 'runs/segment/predict/dog.jpeg'",
     "output_type": "error",
     "traceback": [
      "\u001b[1;31m---------------------------------------------------------------------------\u001b[0m",
      "\u001b[1;31mFileNotFoundError\u001b[0m                         Traceback (most recent call last)",
      "Cell \u001b[1;32mIn[7], line 2\u001b[0m\n\u001b[0;32m      1\u001b[0m get_ipython()\u001b[38;5;241m.\u001b[39mrun_line_magic(\u001b[38;5;124m'\u001b[39m\u001b[38;5;124mcd\u001b[39m\u001b[38;5;124m'\u001b[39m, \u001b[38;5;124m'\u001b[39m\u001b[38;5;132;01m{HOME}\u001b[39;00m\u001b[38;5;124m'\u001b[39m)\n\u001b[1;32m----> 2\u001b[0m \u001b[43mImage\u001b[49m\u001b[43m(\u001b[49m\u001b[43mfilename\u001b[49m\u001b[38;5;241;43m=\u001b[39;49m\u001b[38;5;124;43m'\u001b[39;49m\u001b[38;5;124;43mruns/segment/predict/dog.jpeg\u001b[39;49m\u001b[38;5;124;43m'\u001b[39;49m\u001b[43m,\u001b[49m\u001b[43mheight\u001b[49m\u001b[38;5;241;43m=\u001b[39;49m\u001b[38;5;241;43m600\u001b[39;49m\u001b[43m)\u001b[49m\n",
      "File \u001b[1;32m~\\AppData\\Roaming\\Python\\Python311\\site-packages\\IPython\\core\\display.py:970\u001b[0m, in \u001b[0;36mImage.__init__\u001b[1;34m(self, data, url, filename, format, embed, width, height, retina, unconfined, metadata, alt)\u001b[0m\n\u001b[0;32m    968\u001b[0m \u001b[38;5;28mself\u001b[39m\u001b[38;5;241m.\u001b[39munconfined \u001b[38;5;241m=\u001b[39m unconfined\n\u001b[0;32m    969\u001b[0m \u001b[38;5;28mself\u001b[39m\u001b[38;5;241m.\u001b[39malt \u001b[38;5;241m=\u001b[39m alt\n\u001b[1;32m--> 970\u001b[0m \u001b[38;5;28;43msuper\u001b[39;49m\u001b[43m(\u001b[49m\u001b[43mImage\u001b[49m\u001b[43m,\u001b[49m\u001b[43m \u001b[49m\u001b[38;5;28;43mself\u001b[39;49m\u001b[43m)\u001b[49m\u001b[38;5;241;43m.\u001b[39;49m\u001b[38;5;21;43m__init__\u001b[39;49m\u001b[43m(\u001b[49m\u001b[43mdata\u001b[49m\u001b[38;5;241;43m=\u001b[39;49m\u001b[43mdata\u001b[49m\u001b[43m,\u001b[49m\u001b[43m \u001b[49m\u001b[43murl\u001b[49m\u001b[38;5;241;43m=\u001b[39;49m\u001b[43murl\u001b[49m\u001b[43m,\u001b[49m\u001b[43m \u001b[49m\u001b[43mfilename\u001b[49m\u001b[38;5;241;43m=\u001b[39;49m\u001b[43mfilename\u001b[49m\u001b[43m,\u001b[49m\n\u001b[0;32m    971\u001b[0m \u001b[43m        \u001b[49m\u001b[43mmetadata\u001b[49m\u001b[38;5;241;43m=\u001b[39;49m\u001b[43mmetadata\u001b[49m\u001b[43m)\u001b[49m\n\u001b[0;32m    973\u001b[0m \u001b[38;5;28;01mif\u001b[39;00m \u001b[38;5;28mself\u001b[39m\u001b[38;5;241m.\u001b[39mwidth \u001b[38;5;129;01mis\u001b[39;00m \u001b[38;5;28;01mNone\u001b[39;00m \u001b[38;5;129;01mand\u001b[39;00m \u001b[38;5;28mself\u001b[39m\u001b[38;5;241m.\u001b[39mmetadata\u001b[38;5;241m.\u001b[39mget(\u001b[38;5;124m'\u001b[39m\u001b[38;5;124mwidth\u001b[39m\u001b[38;5;124m'\u001b[39m, {}):\n\u001b[0;32m    974\u001b[0m     \u001b[38;5;28mself\u001b[39m\u001b[38;5;241m.\u001b[39mwidth \u001b[38;5;241m=\u001b[39m metadata[\u001b[38;5;124m'\u001b[39m\u001b[38;5;124mwidth\u001b[39m\u001b[38;5;124m'\u001b[39m]\n",
      "File \u001b[1;32m~\\AppData\\Roaming\\Python\\Python311\\site-packages\\IPython\\core\\display.py:327\u001b[0m, in \u001b[0;36mDisplayObject.__init__\u001b[1;34m(self, data, url, filename, metadata)\u001b[0m\n\u001b[0;32m    324\u001b[0m \u001b[38;5;28;01melif\u001b[39;00m \u001b[38;5;28mself\u001b[39m\u001b[38;5;241m.\u001b[39mmetadata \u001b[38;5;129;01mis\u001b[39;00m \u001b[38;5;28;01mNone\u001b[39;00m:\n\u001b[0;32m    325\u001b[0m     \u001b[38;5;28mself\u001b[39m\u001b[38;5;241m.\u001b[39mmetadata \u001b[38;5;241m=\u001b[39m {}\n\u001b[1;32m--> 327\u001b[0m \u001b[38;5;28;43mself\u001b[39;49m\u001b[38;5;241;43m.\u001b[39;49m\u001b[43mreload\u001b[49m\u001b[43m(\u001b[49m\u001b[43m)\u001b[49m\n\u001b[0;32m    328\u001b[0m \u001b[38;5;28mself\u001b[39m\u001b[38;5;241m.\u001b[39m_check_data()\n",
      "File \u001b[1;32m~\\AppData\\Roaming\\Python\\Python311\\site-packages\\IPython\\core\\display.py:1005\u001b[0m, in \u001b[0;36mImage.reload\u001b[1;34m(self)\u001b[0m\n\u001b[0;32m   1003\u001b[0m \u001b[38;5;250m\u001b[39m\u001b[38;5;124;03m\"\"\"Reload the raw data from file or URL.\"\"\"\u001b[39;00m\n\u001b[0;32m   1004\u001b[0m \u001b[38;5;28;01mif\u001b[39;00m \u001b[38;5;28mself\u001b[39m\u001b[38;5;241m.\u001b[39membed:\n\u001b[1;32m-> 1005\u001b[0m     \u001b[38;5;28;43msuper\u001b[39;49m\u001b[43m(\u001b[49m\u001b[43mImage\u001b[49m\u001b[43m,\u001b[49m\u001b[38;5;28;43mself\u001b[39;49m\u001b[43m)\u001b[49m\u001b[38;5;241;43m.\u001b[39;49m\u001b[43mreload\u001b[49m\u001b[43m(\u001b[49m\u001b[43m)\u001b[49m\n\u001b[0;32m   1006\u001b[0m     \u001b[38;5;28;01mif\u001b[39;00m \u001b[38;5;28mself\u001b[39m\u001b[38;5;241m.\u001b[39mretina:\n\u001b[0;32m   1007\u001b[0m         \u001b[38;5;28mself\u001b[39m\u001b[38;5;241m.\u001b[39m_retina_shape()\n",
      "File \u001b[1;32m~\\AppData\\Roaming\\Python\\Python311\\site-packages\\IPython\\core\\display.py:353\u001b[0m, in \u001b[0;36mDisplayObject.reload\u001b[1;34m(self)\u001b[0m\n\u001b[0;32m    351\u001b[0m \u001b[38;5;28;01mif\u001b[39;00m \u001b[38;5;28mself\u001b[39m\u001b[38;5;241m.\u001b[39mfilename \u001b[38;5;129;01mis\u001b[39;00m \u001b[38;5;129;01mnot\u001b[39;00m \u001b[38;5;28;01mNone\u001b[39;00m:\n\u001b[0;32m    352\u001b[0m     encoding \u001b[38;5;241m=\u001b[39m \u001b[38;5;28;01mNone\u001b[39;00m \u001b[38;5;28;01mif\u001b[39;00m \u001b[38;5;124m\"\u001b[39m\u001b[38;5;124mb\u001b[39m\u001b[38;5;124m\"\u001b[39m \u001b[38;5;129;01min\u001b[39;00m \u001b[38;5;28mself\u001b[39m\u001b[38;5;241m.\u001b[39m_read_flags \u001b[38;5;28;01melse\u001b[39;00m \u001b[38;5;124m\"\u001b[39m\u001b[38;5;124mutf-8\u001b[39m\u001b[38;5;124m\"\u001b[39m\n\u001b[1;32m--> 353\u001b[0m     \u001b[38;5;28;01mwith\u001b[39;00m \u001b[38;5;28;43mopen\u001b[39;49m\u001b[43m(\u001b[49m\u001b[38;5;28;43mself\u001b[39;49m\u001b[38;5;241;43m.\u001b[39;49m\u001b[43mfilename\u001b[49m\u001b[43m,\u001b[49m\u001b[43m \u001b[49m\u001b[38;5;28;43mself\u001b[39;49m\u001b[38;5;241;43m.\u001b[39;49m\u001b[43m_read_flags\u001b[49m\u001b[43m,\u001b[49m\u001b[43m \u001b[49m\u001b[43mencoding\u001b[49m\u001b[38;5;241;43m=\u001b[39;49m\u001b[43mencoding\u001b[49m\u001b[43m)\u001b[49m \u001b[38;5;28;01mas\u001b[39;00m f:\n\u001b[0;32m    354\u001b[0m         \u001b[38;5;28mself\u001b[39m\u001b[38;5;241m.\u001b[39mdata \u001b[38;5;241m=\u001b[39m f\u001b[38;5;241m.\u001b[39mread()\n\u001b[0;32m    355\u001b[0m \u001b[38;5;28;01melif\u001b[39;00m \u001b[38;5;28mself\u001b[39m\u001b[38;5;241m.\u001b[39murl \u001b[38;5;129;01mis\u001b[39;00m \u001b[38;5;129;01mnot\u001b[39;00m \u001b[38;5;28;01mNone\u001b[39;00m:\n\u001b[0;32m    356\u001b[0m     \u001b[38;5;66;03m# Deferred import\u001b[39;00m\n",
      "\u001b[1;31mFileNotFoundError\u001b[0m: [Errno 2] No such file or directory: 'runs/segment/predict/dog.jpeg'"
     ]
    }
   ],
   "source": [
    "%cd {HOME}\n",
    "Image(filename='runs/segment/predict/dog.jpeg',height=600)"
   ]
  },
  {
   "cell_type": "code",
   "execution_count": null,
   "metadata": {},
   "outputs": [],
   "source": []
  },
  {
   "cell_type": "code",
   "execution_count": null,
   "metadata": {},
   "outputs": [],
   "source": []
  },
  {
   "cell_type": "code",
   "execution_count": null,
   "metadata": {},
   "outputs": [],
   "source": []
  }
 ],
 "metadata": {
  "kernelspec": {
   "display_name": "base",
   "language": "python",
   "name": "python3"
  },
  "language_info": {
   "codemirror_mode": {
    "name": "ipython",
    "version": 3
   },
   "file_extension": ".py",
   "mimetype": "text/x-python",
   "name": "python",
   "nbconvert_exporter": "python",
   "pygments_lexer": "ipython3",
   "version": "3.11.3"
  }
 },
 "nbformat": 4,
 "nbformat_minor": 2
}
